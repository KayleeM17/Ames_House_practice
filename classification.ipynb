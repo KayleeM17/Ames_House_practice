{
 "cells": [
  {
   "cell_type": "code",
   "execution_count": 2,
   "metadata": {
    "collapsed": true
   },
   "outputs": [],
   "source": [
    "import pandas as pd\n",
    "import numpy as np\n",
    "import matplotlib.pyplot as plt\n",
    "import seaborn as sns\n",
    "%matplotlib inline\n",
    "\n",
    "from sklearn.preprocessing import StandardScaler\n",
    "from sklearn.model_selection import train_test_split\n",
    "from sklearn.linear_model import Ridge, RidgeCV, ElasticNet, LassoCV, LassoLarsCV\n",
    "from sklearn.neighbors import KNeighborsClassifier\n",
    "from sklearn import svm\n",
    "from sklearn.tree import DecisionTreeClassifier\n",
    "from sklearn.ensemble import RandomForestClassifier, BaggingClassifier, VotingClassifier\n",
    "\n",
    "from sklearn.model_selection import cross_val_score, GridSearchCV"
   ]
  },
  {
   "cell_type": "code",
   "execution_count": 2,
   "metadata": {
    "collapsed": true
   },
   "outputs": [],
   "source": [
    "# Import train dataset\n",
    "df = pd.read_csv('train.csv')\n",
    "df = df.drop('SalePrice', axis=1)"
   ]
  },
  {
   "cell_type": "code",
   "execution_count": 24,
   "metadata": {},
   "outputs": [
    {
     "data": {
      "text/plain": [
       "Series([], dtype: float64)"
      ]
     },
     "execution_count": 24,
     "metadata": {},
     "output_type": "execute_result"
    }
   ],
   "source": [
    "# Check columns with missing data\n",
    "df[df.columns[df.isnull().any()]].isnull().sum()"
   ]
  },
  {
   "cell_type": "code",
   "execution_count": 3,
   "metadata": {
    "collapsed": true
   },
   "outputs": [],
   "source": [
    "##### Repalce missing data\n",
    "# Impute missing value for 'Electrical' by SBrkr since it has the highest frequency\n",
    "df.loc[df['Electrical'].isnull(), 'Electrical'] = 'SBrkr'\n",
    "\n",
    "# MasVnrType MasVnrType have the same rows of missing value, None is the most frequent value for MasVnrType\n",
    "# From my guessing, Impute 0.0 for missing value in column MasVnrArea\n",
    "df.loc[df['MasVnrType'].isnull(), 'MasVnrType'] = 'None'\n",
    "df.loc[df['MasVnrArea'].isnull(), 'MasVnrArea'] = 0.0\n",
    "\n",
    "# Impute column BsmtExposure, index=948 with value 'No', since it has basement\n",
    "df.loc[948, 'BsmtExposure'] = 'No'\n",
    "\n",
    "# Impute 'NO_bsme' to column related besement is missing, since the area of basement is 0\n",
    "for i in ['BsmtQual','BsmtCond','BsmtExposure','BsmtFinType1','BsmtFinType2']:\n",
    "    df.loc[df[i].isnull() == True, i] = 'NO_bsmt'\n",
    "\n",
    "# Impute 'NO_garage' to column related garage is missing, since the area of garage is 0\n",
    "for i in ['GarageType','GarageFinish','GarageQual','GarageCond']:\n",
    "    df.loc[df[i].isnull() == True, i] = 'NO_garage'\n",
    "\n",
    "df.loc[df['GarageYrBlt'].isnull( )== True, 'GarageYrBlt'] = 0\n",
    "\n",
    "# When FireplaceQu has missing value, the value of column Fireplaces is 0. Means there is no Fireplaces in the house\n",
    "# Impute FireplaceQu with 'No_fireplace'\n",
    "df.loc[df['FireplaceQu'].isnull() == True, 'FireplaceQu'] = 'NO_fireplace'\n",
    "\n",
    "# Impute Fence with 'No_fence'\n",
    "df.loc[df['Fence'].isnull() == True, 'Fence'] = 'No_fence'\n",
    "\n",
    "# I will drop column Alley, MiscFeature, PoolQC since it has over 90% missing value\n",
    "df = df.drop(['Alley'], axis=1)\n",
    "df = df.drop(['MiscFeature'], axis=1)\n",
    "df = df.drop(['PoolQC'], axis=1)\n",
    "\n",
    "# Impute missing value of LotFrontage column\n",
    "df.loc[df['LotFrontage'].isnull() == True, 'LotFrontage'] = df['LotArea']**(1/4)"
   ]
  },
  {
   "cell_type": "code",
   "execution_count": 4,
   "metadata": {
    "collapsed": true
   },
   "outputs": [],
   "source": [
    "# chenge object value to int\n",
    "dict1 = {'Ex':5, 'Gd':4, 'TA':3, 'Fa':2, 'Po':1}\n",
    "df['ExterQual'] = df['ExterQual'].map(dict1)\n",
    "df['ExterCond'] = df['ExterCond'].map(dict1)\n",
    "df['HeatingQC'] = df['HeatingQC'].map(dict1)\n",
    "df['KitchenQual'] = df['KitchenQual'].map(dict1)\n",
    "\n",
    "bsmt_dict = {'Ex':5, 'Gd':4, 'TA':3, 'Fa':2, 'Po':1, 'NO_bsmt':0}\n",
    "df['BsmtQual'] = df['BsmtQual'].map(bsmt_dict)\n",
    "df['BsmtCond'] = df['BsmtCond'].map(bsmt_dict)\n",
    "df['BsmtExposure'] = df['BsmtExposure'].map(bsmt_dict)\n",
    "\n",
    "Garage_dict = {'Ex':5, 'Gd':4, 'TA':3, 'Fa':2, 'Po':1,'NO_garage':0}\n",
    "df['GarageQual'] = df['GarageQual'].map(Garage_dict)\n",
    "df['GarageCond'] = df['GarageCond'].map(Garage_dict)\n",
    "\n",
    "GarageFinish_dict = {'Fin':3, 'RFn':2, 'Unf':1,'NO_garage':0}\n",
    "df['GarageFinish'] = df['GarageFinish'].map(GarageFinish_dict)\n",
    "\n",
    "FireplaceQu_dict = {'Ex':5, 'Gd':4, 'TA':3, 'Fa':2, 'Po':1,'NO_fireplace':0}\n",
    "df['FireplaceQu'] = df['FireplaceQu'].map(FireplaceQu_dict)\n",
    "\n",
    "centralair_dict = {'Y':1, 'N':0}\n",
    "df['CentralAir'] = df['CentralAir'].map(centralair_dict)\n",
    "\n",
    "PavedDrive_dict = {'Y':3, 'P':2, 'N':1}\n",
    "df['PavedDrive'] = df['PavedDrive'].map(PavedDrive_dict)\n",
    "\n",
    "Fence_dict = {'GdPrv':4, 'MnPrv':3, 'GdWo':2, 'MnWw':1,'No_fence':0}\n",
    "df['Fence'] = df['Fence'].map(Fence_dict)\n",
    "\n",
    "BsmtFinType_dict = {'GLQ':6,'ALQ':5,'BLQ':4, 'Rec':3, 'LwQ':2, 'Unf':1,'NO_bsmt':0}\n",
    "df['BsmtFinType1'] = df['BsmtFinType1'].map(BsmtFinType_dict)\n",
    "df['BsmtFinType2'] = df['BsmtFinType2'].map(BsmtFinType_dict)"
   ]
  },
  {
   "cell_type": "code",
   "execution_count": 5,
   "metadata": {
    "collapsed": true
   },
   "outputs": [],
   "source": [
    "df['SaleCondition'] = df['SaleCondition'].map(lambda x: 1 if x=='Abnorml' else 0)"
   ]
  },
  {
   "cell_type": "code",
   "execution_count": 6,
   "metadata": {},
   "outputs": [
    {
     "data": {
      "text/plain": [
       "0    1359\n",
       "1     101\n",
       "Name: SaleCondition, dtype: int64"
      ]
     },
     "execution_count": 6,
     "metadata": {},
     "output_type": "execute_result"
    }
   ],
   "source": [
    "df['SaleCondition'].value_counts()"
   ]
  },
  {
   "cell_type": "code",
   "execution_count": 7,
   "metadata": {
    "collapsed": true
   },
   "outputs": [],
   "source": [
    "df_dummy = pd.get_dummies(df)"
   ]
  },
  {
   "cell_type": "code",
   "execution_count": 8,
   "metadata": {
    "collapsed": true
   },
   "outputs": [],
   "source": [
    "# Find the correlation between SaleCondition and features and sort the correlation value decending\n",
    "corr = df_dummy.corr()[['SaleCondition']].sort_values('SaleCondition', ascending=False)"
   ]
  },
  {
   "cell_type": "code",
   "execution_count": 9,
   "metadata": {
    "collapsed": true
   },
   "outputs": [],
   "source": [
    "# Find features that has larger than 0.07 correlation value with SalePrice\n",
    "high_corr = corr[abs(corr['SaleCondition']) > 0.07]\n",
    "high_corr = high_corr.drop(['SaleCondition'])"
   ]
  },
  {
   "cell_type": "code",
   "execution_count": 10,
   "metadata": {
    "collapsed": true
   },
   "outputs": [],
   "source": [
    "high_corr = high_corr.drop(['Utilities_NoSeWa','Functional_Sev','Exterior1st_Stone','Electrical_Mix'])"
   ]
  },
  {
   "cell_type": "code",
   "execution_count": 11,
   "metadata": {
    "collapsed": true
   },
   "outputs": [],
   "source": [
    "X = df_dummy[high_corr.index]\n",
    "y = df['SaleCondition']\n",
    "\n",
    "Xs = StandardScaler().fit_transform(X)"
   ]
  },
  {
   "cell_type": "code",
   "execution_count": 12,
   "metadata": {},
   "outputs": [
    {
     "name": "stdout",
     "output_type": "stream",
     "text": [
      "0.9308219178082192\n",
      "0.927394553098\n"
     ]
    }
   ],
   "source": [
    "# KNN \n",
    "baseline = 1 - np.mean(y)\n",
    "knn = KNeighborsClassifier()\n",
    "knn.fit(Xs, y)\n",
    "print(baseline)\n",
    "print(cross_val_score(knn, Xs, y, cv=5).mean())"
   ]
  },
  {
   "cell_type": "code",
   "execution_count": 13,
   "metadata": {},
   "outputs": [
    {
     "data": {
      "text/plain": [
       "0.93219848851233711"
      ]
     },
     "execution_count": 13,
     "metadata": {},
     "output_type": "execute_result"
    }
   ],
   "source": [
    "clf = svm.SVC(C=0.01, kernel='poly')\n",
    "clf.fit(Xs, y)\n",
    "cross_val_score(clf, Xs, y, cv=5).mean()"
   ]
  },
  {
   "cell_type": "code",
   "execution_count": 34,
   "metadata": {},
   "outputs": [
    {
     "data": {
      "text/plain": [
       "0.86782871177480025"
      ]
     },
     "execution_count": 34,
     "metadata": {},
     "output_type": "execute_result"
    }
   ],
   "source": [
    "dtc = DecisionTreeClassifier(max_depth=100, random_state=0)\n",
    "dtc.fit(Xs, y)\n",
    "cross_val_score(dtc, Xs, y, cv=5).mean()"
   ]
  },
  {
   "cell_type": "code",
   "execution_count": 32,
   "metadata": {},
   "outputs": [
    {
     "data": {
      "text/plain": [
       "0.92328731777374085"
      ]
     },
     "execution_count": 32,
     "metadata": {},
     "output_type": "execute_result"
    }
   ],
   "source": [
    "rfc = RandomForestClassifier(max_depth=200, n_estimators=200)\n",
    "rfc.fit(Xs, y)\n",
    "cross_val_score(rfc, Xs, y, cv=5).mean()"
   ]
  },
  {
   "cell_type": "code",
   "execution_count": 17,
   "metadata": {},
   "outputs": [
    {
     "data": {
      "text/plain": [
       "0.92192449984327296"
      ]
     },
     "execution_count": 17,
     "metadata": {},
     "output_type": "execute_result"
    }
   ],
   "source": [
    "bagger = BaggingClassifier(dtc)\n",
    "cross_val_score(bagger, Xs, y, cv=5).mean()"
   ]
  },
  {
   "cell_type": "code",
   "execution_count": 36,
   "metadata": {
    "collapsed": true
   },
   "outputs": [],
   "source": [
    "vf = VotingClassifier(estimators=[('svm',clf), ('rfc',rfc), ('bagger',bagger)], voting='hard')"
   ]
  },
  {
   "cell_type": "code",
   "execution_count": 37,
   "metadata": {},
   "outputs": [
    {
     "data": {
      "text/plain": [
       "0.92671434509083017"
      ]
     },
     "execution_count": 37,
     "metadata": {},
     "output_type": "execute_result"
    }
   ],
   "source": [
    "cross_val_score(vf, Xs, y, cv=5).mean()"
   ]
  },
  {
   "cell_type": "code",
   "execution_count": 5,
   "metadata": {},
   "outputs": [],
   "source": [
    "# Support Vector Machine\n",
    "clf = svm.SVC(kernel='poly')\n",
    "gamma_range = np.logspace(-5, 2, 10)\n",
    "c_range = np.logspace(-3, 2, 10)\n",
    "kernel_range = ['sigmoid','linear','poly']\n",
    "grid_dict = dict(gamma=gamma_range, C=c_range, kernel=kernel_range)\n",
    "#grid_search = GridSearchCV(clf, grid_dict, verbose=1, n_jobs=-1)\n",
    "#grid_search.fit(Xs, y)"
   ]
  },
  {
   "cell_type": "code",
   "execution_count": 14,
   "metadata": {
    "collapsed": true
   },
   "outputs": [],
   "source": [
    "# Import test dataset\n",
    "test = pd.read_csv('test.csv')"
   ]
  },
  {
   "cell_type": "code",
   "execution_count": 15,
   "metadata": {
    "collapsed": true
   },
   "outputs": [],
   "source": [
    "# change columns name of test data\n",
    "test.columns = [i.replace(' ','') for i in test.columns]\n",
    "test.columns = [i.replace('/','') for i in test.columns]"
   ]
  },
  {
   "cell_type": "code",
   "execution_count": 16,
   "metadata": {
    "collapsed": true
   },
   "outputs": [],
   "source": [
    "# Impute missing value for 'Electrical' by SBrkr since it has the highest frequency\n",
    "test.loc[test['Electrical'].isnull(), 'Electrical'] = 'SBrkr'\n",
    "\n",
    "# MasVnrType MasVnrType have the same rows of missing value, None is the most frequent value for MasVnrType\n",
    "# From my guessing, Impute 0.0 for missing value in column MasVnrArea\n",
    "test.loc[test['MasVnrType'].isnull(), 'MasVnrType'] = 'None'\n",
    "test.loc[test['MasVnrArea'].isnull(), 'MasVnrArea'] = 0.0\n",
    "\n",
    "# Impute 'NO_bsme' to column related besement is missing, since the area of basement is 0\n",
    "for i in ['BsmtQual','BsmtCond','BsmtExposure','BsmtFinType1','BsmtFinType2']:\n",
    "    test.loc[test[i].isnull() == True, i] = 'NO_bsmt'\n",
    "\n",
    "# Impute 'NO_garage' to column related garage is missing, since the area of garage is 0\n",
    "for i in ['GarageType','GarageFinish','GarageQual','GarageCond']:\n",
    "    test.loc[test[i].isnull() == True, i] = 'NO_garage'\n",
    "\n",
    "test.loc[test['GarageYrBlt'].isnull( )== True, 'GarageYrBlt'] = 0\n",
    "\n",
    "# When FireplaceQu has missing value, the value of column Fireplaces is 0. Means there is no Fireplaces in the house\n",
    "# Impute FireplaceQu with 'No_fireplace'\n",
    "test.loc[test['FireplaceQu'].isnull() == True, 'FireplaceQu'] = 'NO_fireplace'\n",
    "\n",
    "# Impute Fence with 'No_fence'\n",
    "test.loc[test['Fence'].isnull() == True, 'Fence'] = 'No_fence'\n",
    "\n",
    "# I will drop column Alley, MiscFeature, PoolQC since it has over 90% missing value\n",
    "test = test.drop(['Alley'], axis=1)\n",
    "test = test.drop(['MiscFeature'], axis=1)\n",
    "test = test.drop(['PoolQC'], axis=1)\n",
    "\n",
    "# Impute missing value of LotFrontage column\n",
    "test.loc[test['LotFrontage'].isnull() == True, 'LotFrontage'] = test['LotArea']**(1/4)"
   ]
  },
  {
   "cell_type": "code",
   "execution_count": 17,
   "metadata": {
    "collapsed": true
   },
   "outputs": [],
   "source": [
    "# chenge object value to int\n",
    "dict1 = {'Ex':5, 'Gd':4, 'TA':3, 'Fa':2, 'Po':1}\n",
    "test['ExterQual'] = test['ExterQual'].map(dict1)\n",
    "test['ExterCond'] = test['ExterCond'].map(dict1)\n",
    "test['HeatingQC'] = test['HeatingQC'].map(dict1)\n",
    "test['KitchenQual'] = test['KitchenQual'].map(dict1)\n",
    "\n",
    "bsmt_dict = {'Ex':5, 'Gd':4, 'TA':3, 'Fa':2, 'Po':1, 'NO_bsmt':0}\n",
    "test['BsmtQual'] = test['BsmtQual'].map(bsmt_dict)\n",
    "test['BsmtCond'] = test['BsmtCond'].map(bsmt_dict)\n",
    "test['BsmtExposure'] = test['BsmtExposure'].map(bsmt_dict)\n",
    "\n",
    "Garage_dict = {'Ex':5, 'Gd':4, 'TA':3, 'Fa':2, 'Po':1,'NO_garage':0}\n",
    "test['GarageQual'] = test['GarageQual'].map(Garage_dict)\n",
    "test['GarageCond'] = test['GarageCond'].map(Garage_dict)\n",
    "\n",
    "GarageFinish_dict = {'Fin':3, 'RFn':2, 'Unf':1,'NO_garage':0}\n",
    "test['GarageFinish'] = test['GarageFinish'].map(GarageFinish_dict)\n",
    "\n",
    "FireplaceQu_dict = {'Ex':5, 'Gd':4, 'TA':3, 'Fa':2, 'Po':1,'NO_fireplace':0}\n",
    "test['FireplaceQu'] = test['FireplaceQu'].map(FireplaceQu_dict)\n",
    "\n",
    "centralair_dict = {'Y':1, 'N':0}\n",
    "test['CentralAir'] = test['CentralAir'].map(centralair_dict)\n",
    "\n",
    "PavedDrive_dict = {'Y':3, 'P':2, 'N':1}\n",
    "test['PavedDrive'] = test['PavedDrive'].map(PavedDrive_dict)\n",
    "\n",
    "Fence_dict = {'GdPrv':4, 'MnPrv':3, 'GdWo':2, 'MnWw':1,'No_fence':0}\n",
    "test['Fence'] = test['Fence'].map(Fence_dict)\n",
    "\n",
    "BsmtFinType_dict = {'GLQ':6,'ALQ':5,'BLQ':4, 'Rec':3, 'LwQ':2, 'Unf':1,'NO_bsmt':0}\n",
    "test['BsmtFinType1'] = test['BsmtFinType1'].map(BsmtFinType_dict)\n",
    "test['BsmtFinType2'] = test['BsmtFinType2'].map(BsmtFinType_dict)"
   ]
  },
  {
   "cell_type": "code",
   "execution_count": 18,
   "metadata": {
    "collapsed": true
   },
   "outputs": [],
   "source": [
    "test1_col = set([i[:i.index('_')] for i in high_corr.index if '_' in i])"
   ]
  },
  {
   "cell_type": "code",
   "execution_count": 19,
   "metadata": {
    "collapsed": true
   },
   "outputs": [],
   "source": [
    "test1 = test[list(test1_col)]"
   ]
  },
  {
   "cell_type": "code",
   "execution_count": 20,
   "metadata": {
    "collapsed": true
   },
   "outputs": [],
   "source": [
    "test1_dummy = pd.get_dummies(test1)"
   ]
  },
  {
   "cell_type": "code",
   "execution_count": 21,
   "metadata": {
    "collapsed": true
   },
   "outputs": [],
   "source": [
    "test_dummy = pd.concat([test, test1_dummy], axis=1)"
   ]
  },
  {
   "cell_type": "code",
   "execution_count": 23,
   "metadata": {
    "collapsed": true
   },
   "outputs": [],
   "source": [
    "test_dummy = test_dummy.rename(columns = {'SaleType_WD ':'SaleType_WD'})"
   ]
  },
  {
   "cell_type": "code",
   "execution_count": 24,
   "metadata": {},
   "outputs": [
    {
     "data": {
      "text/plain": [
       "set()"
      ]
     },
     "execution_count": 24,
     "metadata": {},
     "output_type": "execute_result"
    }
   ],
   "source": [
    "set(high_corr.index) - set(test_dummy.columns)"
   ]
  },
  {
   "cell_type": "code",
   "execution_count": 25,
   "metadata": {
    "collapsed": true
   },
   "outputs": [],
   "source": [
    "X_test = test_dummy[high_corr.index]\n",
    "Xs_test = StandardScaler().fit_transform(X_test)"
   ]
  },
  {
   "cell_type": "code",
   "execution_count": 26,
   "metadata": {
    "collapsed": true
   },
   "outputs": [],
   "source": [
    "y_predict = pd.DataFrame(clf.predict(Xs_test))\n",
    "y_predict.columns = ['Sale Condition']"
   ]
  },
  {
   "cell_type": "code",
   "execution_count": 27,
   "metadata": {},
   "outputs": [
    {
     "data": {
      "text/plain": [
       "Sale Condition    0.002275\n",
       "dtype: float64"
      ]
     },
     "execution_count": 27,
     "metadata": {},
     "output_type": "execute_result"
    }
   ],
   "source": [
    "y_predict.mean()"
   ]
  },
  {
   "cell_type": "code",
   "execution_count": 28,
   "metadata": {
    "collapsed": true
   },
   "outputs": [],
   "source": [
    "pd.concat([test[['Id']], y_predict], axis=1).to_csv(\"classification_out1.csv\")"
   ]
  }
 ],
 "metadata": {
  "kernelspec": {
   "display_name": "Python 3",
   "language": "python",
   "name": "python3"
  },
  "language_info": {
   "codemirror_mode": {
    "name": "ipython",
    "version": 3
   },
   "file_extension": ".py",
   "mimetype": "text/x-python",
   "name": "python",
   "nbconvert_exporter": "python",
   "pygments_lexer": "ipython3",
   "version": "3.6.1"
  }
 },
 "nbformat": 4,
 "nbformat_minor": 2
}
