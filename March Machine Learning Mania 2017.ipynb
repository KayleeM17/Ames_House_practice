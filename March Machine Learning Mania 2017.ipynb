{
 "cells": [
  {
   "cell_type": "code",
   "execution_count": 1,
   "metadata": {
    "collapsed": true
   },
   "outputs": [],
   "source": [
    "import pandas as pd\n",
    "import numpy as np\n",
    "import seaborn as sns\n",
    "import matplotlib.pyplot as plt\n",
    "\n",
    "from sklearn.preprocessing import StandardScaler\n",
    "from sklearn.linear_model import LogisticRegression\n",
    "from sklearn.model_selection import cross_val_score, GridSearchCV\n",
    "\n",
    "from sklearn.neighbors import KNeighborsClassifier\n",
    "from sklearn import svm\n",
    "from sklearn.tree import DecisionTreeClassifier\n",
    "from sklearn.ensemble import RandomForestClassifier,BaggingClassifier,VotingClassifier, AdaBoostClassifier,GradientBoostingClassifier\n"
   ]
  },
  {
   "cell_type": "markdown",
   "metadata": {},
   "source": [
    "# Import Data"
   ]
  },
  {
   "cell_type": "code",
   "execution_count": 2,
   "metadata": {
    "collapsed": true
   },
   "outputs": [],
   "source": [
    "teams = pd.read_csv('Teams.csv')   # (362, 2)  Team_Id; Team_Name\n",
    "seasons = pd.read_csv('Seasons.csv')  # (33, 6)  \n",
    "r_compact = pd.read_csv('RegularSeasonCompactResults.csv')   # (150684, 8)\n",
    "r_detail = pd.read_csv('RegularSeasonDetailedResults.csv')   # (76636, 34)\n",
    "t_compact = pd.read_csv('TourneyCompactResults.csv')   # (2050, 8)\n",
    "t_detail = pd.read_csv('TourneyDetailedResults.csv')   # (914, 34)\n",
    "seed = pd.read_csv('TourneySeeds.csv')   # (2150, 3)\n",
    "slot = pd.read_csv('TourneySlots.csv')   # (2117, 4)"
   ]
  },
  {
   "cell_type": "code",
   "execution_count": 4,
   "metadata": {
    "collapsed": true
   },
   "outputs": [],
   "source": [
    "# function to check missing value\n",
    "def missing(df):\n",
    "    missing_value = df[df.columns[df.isnull().any()]].isnull().sum()\n",
    "    return missing_value"
   ]
  },
  {
   "cell_type": "markdown",
   "metadata": {},
   "source": [
    "# Create new dataset contains every team's regular season's statistics"
   ]
  },
  {
   "cell_type": "code",
   "execution_count": 3,
   "metadata": {
    "collapsed": true
   },
   "outputs": [],
   "source": [
    "# pick the columns related with winning team\n",
    "rw_detail = r_detail[['Season', 'Daynum', 'Wteam', 'Wscore',  'Wloc',\n",
    "       'Numot', 'Wfgm', 'Wfga', 'Wfgm3', 'Wfga3', 'Wftm', 'Wfta', 'Wor', 'Wdr',\n",
    "       'Wast', 'Wto', 'Wstl', 'Wblk', 'Wpf']].copy()\n",
    "\n",
    "# the result for winning team is 1\n",
    "rw_detail['result'] = 1   # 1 for win, 0 for lose\n",
    "\n",
    "# remove the 'W' for column name\n",
    "rw_detail.columns = [i.replace('W','') for i in rw_detail.columns]"
   ]
  },
  {
   "cell_type": "code",
   "execution_count": 4,
   "metadata": {
    "collapsed": true
   },
   "outputs": [],
   "source": [
    "# Do the same thing for loss team\n",
    "rl_detail = r_detail[['Season','Daynum','Lteam','Wloc',\n",
    "       'Numot','Lscore','Lfgm', 'Lfga', 'Lfgm3', 'Lfga3',\n",
    "       'Lftm', 'Lfta', 'Lor', 'Ldr', 'Last', 'Lto', 'Lstl', 'Lblk', 'Lpf']].copy()\n",
    "\n",
    "rl_detail['result'] = 0\n",
    "\n",
    "rl_detail.columns = [i.replace('L','') for i in rl_detail.columns]\n",
    "\n",
    "rl_detail_loc_dict = {'H':'A', 'A':'H', 'N':'N'}\n",
    "\n",
    "rl_detail['Wloc'] = rl_detail['Wloc'].map(rl_detail_loc_dict)\n",
    "\n",
    "rl_detail.columns = [i.replace('W','') for i in rl_detail.columns]"
   ]
  },
  {
   "cell_type": "code",
   "execution_count": 5,
   "metadata": {
    "collapsed": true
   },
   "outputs": [],
   "source": [
    "# concat win team and loss team\n",
    "rwl_detail = pd.concat([rw_detail, rl_detail])   #  (153272, 20)"
   ]
  },
  {
   "cell_type": "code",
   "execution_count": 6,
   "metadata": {
    "collapsed": true
   },
   "outputs": [],
   "source": [
    "# create three new features by calculating the percentage\n",
    "rwl_detail['fgp'] = rwl_detail['fgm']/rwl_detail['fga']\n",
    "rwl_detail['fgp3'] = rwl_detail['fgm3']/rwl_detail['fga3']\n",
    "rwl_detail['ftp'] = rwl_detail['ftm']/rwl_detail['fta']"
   ]
  },
  {
   "cell_type": "code",
   "execution_count": 7,
   "metadata": {
    "collapsed": true
   },
   "outputs": [],
   "source": [
    "# pick the features which have higher correlation with result\n",
    "result_corr = rwl_detail.corr()[['result']]\n",
    "high_result_corr = result_corr[abs(result_corr['result']) > 0.05].drop(['result'])   # (16, 1)"
   ]
  },
  {
   "cell_type": "code",
   "execution_count": 8,
   "metadata": {
    "collapsed": true
   },
   "outputs": [],
   "source": [
    "# Create the DataFrame with contain Season, team, and regular season's statistic\n",
    "rwl_detail = rwl_detail[list(high_result_corr.index) + ['team','Season']]"
   ]
  },
  {
   "cell_type": "code",
   "execution_count": 9,
   "metadata": {
    "collapsed": true
   },
   "outputs": [],
   "source": [
    "# Calulate avarage stats for each season each team \n",
    "# Drop the season 2017 for laterly create training dataset\n",
    "r_detail_mean = rwl_detail.groupby(['Season' ,'team']).mean().drop([2017]).reset_index()"
   ]
  },
  {
   "cell_type": "markdown",
   "metadata": {},
   "source": [
    "# Create dataset contains number of winning games of last tournament for every team"
   ]
  },
  {
   "cell_type": "code",
   "execution_count": 21,
   "metadata": {
    "collapsed": true
   },
   "outputs": [],
   "source": [
    "t_compact = t_compact[['Season','Wteam','Lteam']]\n",
    "\n",
    "# create dataframe for tourney number games win\n",
    "t_win_games = t_compact[['Season','Wteam','Lteam']]\n",
    "t_win_games['Season'] = t_win_games['Season'] + 1\n",
    "t_win_games['number_win'] = 1\n",
    "\n",
    "t_win_games = t_win_games.groupby(['Season','Wteam']).count().reset_index().drop(['Lteam'],axis=1)"
   ]
  },
  {
   "cell_type": "code",
   "execution_count": 22,
   "metadata": {
    "collapsed": true
   },
   "outputs": [],
   "source": [
    "# merge number win games t for win team\n",
    "t_compact = pd.merge(left=t_compact, right=t_win_games, how='left', on=['Season', 'Wteam'])\n",
    "\n",
    "# change column name\n",
    "t_win_games_loss = t_win_games.rename(columns={'Wteam':'Lteam'})\n",
    "# merge number win games t for loss team\n",
    "t_compact = pd.merge(left=t_compact, right=t_win_games_loss, how='left', on=['Season', 'Lteam'])\n",
    "\n",
    "# create new column for different number of t winning between win team and loss team\n",
    "t_compact['t_number_win_diff'] = t_compact['number_win_x'] - t_compact['number_win_y']\n",
    "\n",
    "t_compact = t_compact.drop(['number_win_x','number_win_y'], axis=1)"
   ]
  },
  {
   "cell_type": "markdown",
   "metadata": {},
   "source": [
    "# Create dataset contains seed number for each team"
   ]
  },
  {
   "cell_type": "code",
   "execution_count": 23,
   "metadata": {
    "collapsed": true
   },
   "outputs": [],
   "source": [
    "\n",
    "# change feature Seed type to integer\n",
    "seed['numeric_seed'] = [int(i[1:3]) for i in seed['Seed']]\n",
    "\n",
    "# create dataframe for win team and seed\n",
    "winseeds = seed.rename(columns={'Team':'Wteam', 'numeric_seed':'win_seed'})\n",
    "winseeds = winseeds[['Season','Wteam','win_seed']]\n",
    "\n",
    "# create dataframe for loss team and seed\n",
    "lossseeds = seed.rename(columns={'Team':'Lteam', 'numeric_seed':'loss_seed'})\n",
    "lossseeds = lossseeds[['Season','Lteam','loss_seed']]"
   ]
  },
  {
   "cell_type": "code",
   "execution_count": 24,
   "metadata": {
    "collapsed": true
   },
   "outputs": [],
   "source": [
    "# merge seed for win team \n",
    "t_compact = pd.merge(left=t_compact, right=winseeds, how='left', on=['Season', 'Wteam'])\n",
    "# merge seed for loss team\n",
    "t_compact = pd.merge(left=t_compact, right=lossseeds, on=['Season', 'Lteam'])\n",
    "\n",
    "# create new column for different seed between win team and loss team\n",
    "t_compact['seed_diff'] = t_compact['win_seed'] - t_compact['loss_seed']\n",
    "\n",
    "t_compact = t_compact.drop(['win_seed','loss_seed'], axis=1)"
   ]
  },
  {
   "cell_type": "markdown",
   "metadata": {},
   "source": [
    "# Create dataset for feeding in the prediction model"
   ]
  },
  {
   "cell_type": "code",
   "execution_count": 25,
   "metadata": {
    "collapsed": true
   },
   "outputs": [],
   "source": [
    "# change column name\n",
    "r_detail_mean_win = r_detail_mean.rename(columns={'team':'Wteam'})\n",
    "# merge r_detail for win team\n",
    "t_compact = pd.merge(left=t_compact, right=r_detail_mean_win, how='left', on=['Season', 'Wteam'])\n",
    "\n",
    "# change column name\n",
    "r_detail_mean_loss = r_detail_mean.rename(columns={'team':'Lteam'})\n",
    "# merge r_detail for loss team\n",
    "t_compact = pd.merge(left=t_compact, right=r_detail_mean_loss, how='left', on=['Season', 'Lteam'])\n"
   ]
  },
  {
   "cell_type": "code",
   "execution_count": 26,
   "metadata": {
    "collapsed": true
   },
   "outputs": [],
   "source": [
    "# create new columns for different between win team and loss team\n",
    "t_compact['r_ast_diff'] = t_compact['ast_x'] - t_compact['ast_y']\n",
    "t_compact['r_blk_diff'] = t_compact['blk_x'] - t_compact['blk_y']\n",
    "t_compact['r_dr_diff'] = t_compact['dr_x'] - t_compact['dr_y']\n",
    "t_compact['r_fga_diff'] = t_compact['fga_x'] - t_compact['fga_y']\n",
    "t_compact['r_fga3_diff'] = t_compact['fga3_x'] - t_compact['fga3_y']\n",
    "t_compact['r_fgm_diff'] = t_compact['fgm_x'] - t_compact['fgm_y']\n",
    "t_compact['r_fgm3_diff'] = t_compact['fgm3_x'] - t_compact['fgm3_y']\n",
    "t_compact['r_fta_diff'] = t_compact['fta_x'] - t_compact['fta_y']\n",
    "t_compact['r_ftm_diff'] = t_compact['ftm_x'] - t_compact['ftm_y']\n",
    "t_compact['r_pf_diff'] = t_compact['pf_x'] - t_compact['pf_y']\n",
    "t_compact['r_score_diff'] = t_compact['score_x'] - t_compact['score_y']\n",
    "t_compact['r_stl_diff'] = t_compact['stl_x'] - t_compact['stl_y']\n",
    "t_compact['r_to_diff'] = t_compact['to_x'] - t_compact['to_y']\n",
    "t_compact['r_fgp_diff'] = t_compact['fgp_x'] - t_compact['fgp_y']\n",
    "t_compact['r_fgp3_diff'] = t_compact['fgp3_x'] - t_compact['fgp3_y']\n",
    "t_compact['r_ftp_diff'] = t_compact['ftp_x'] - t_compact['ftp_y']\n",
    "\n",
    "# drop columns\n",
    "t_compact = t_compact.drop(['ast_x', 'blk_x', 'dr_x',\n",
    "       'fga_x', 'fga3_x', 'fgm_x', 'fgm3_x', 'fta_x', 'ftm_x', 'pf_x',\n",
    "       'score_x', 'stl_x', 'to_x', 'fgp_x', 'fgp3_x', 'ftp_x', 'ast_y',\n",
    "       'blk_y', 'dr_y', 'fga_y', 'fga3_y', 'fgm_y', 'fgm3_y', 'fta_y', 'ftm_y',\n",
    "       'pf_y', 'score_y', 'stl_y', 'to_y', 'fgp_y', 'fgp3_y', 'ftp_y'], axis=1)\n",
    "\n",
    "t_compact = t_compact.dropna()"
   ]
  },
  {
   "cell_type": "code",
   "execution_count": 22,
   "metadata": {},
   "outputs": [
    {
     "data": {
      "text/html": [
       "<div>\n",
       "<style>\n",
       "    .dataframe thead tr:only-child th {\n",
       "        text-align: right;\n",
       "    }\n",
       "\n",
       "    .dataframe thead th {\n",
       "        text-align: left;\n",
       "    }\n",
       "\n",
       "    .dataframe tbody tr th {\n",
       "        vertical-align: top;\n",
       "    }\n",
       "</style>\n",
       "<table border=\"1\" class=\"dataframe\">\n",
       "  <thead>\n",
       "    <tr style=\"text-align: right;\">\n",
       "      <th></th>\n",
       "      <th>Season</th>\n",
       "      <th>Wteam</th>\n",
       "      <th>Lteam</th>\n",
       "      <th>t_number_win_diff</th>\n",
       "      <th>seed_diff</th>\n",
       "      <th>r_ast_diff</th>\n",
       "      <th>r_blk_diff</th>\n",
       "      <th>r_dr_diff</th>\n",
       "      <th>r_fga_diff</th>\n",
       "      <th>r_fga3_diff</th>\n",
       "      <th>...</th>\n",
       "      <th>r_fgm3_diff</th>\n",
       "      <th>r_fta_diff</th>\n",
       "      <th>r_ftm_diff</th>\n",
       "      <th>r_pf_diff</th>\n",
       "      <th>r_score_diff</th>\n",
       "      <th>r_stl_diff</th>\n",
       "      <th>r_to_diff</th>\n",
       "      <th>r_fgp_diff</th>\n",
       "      <th>r_fgp3_diff</th>\n",
       "      <th>r_ftp_diff</th>\n",
       "    </tr>\n",
       "  </thead>\n",
       "  <tbody>\n",
       "    <tr>\n",
       "      <th>1140</th>\n",
       "      <td>2003</td>\n",
       "      <td>1143</td>\n",
       "      <td>1301</td>\n",
       "      <td>0.0</td>\n",
       "      <td>-1</td>\n",
       "      <td>1.333333</td>\n",
       "      <td>-0.273563</td>\n",
       "      <td>2.345977</td>\n",
       "      <td>5.390805</td>\n",
       "      <td>-5.465517</td>\n",
       "      <td>...</td>\n",
       "      <td>-1.552874</td>\n",
       "      <td>-0.949425</td>\n",
       "      <td>-2.387356</td>\n",
       "      <td>-1.563218</td>\n",
       "      <td>2.082759</td>\n",
       "      <td>-1.214943</td>\n",
       "      <td>-0.027586</td>\n",
       "      <td>0.010234</td>\n",
       "      <td>0.025371</td>\n",
       "      <td>-0.089516</td>\n",
       "    </tr>\n",
       "    <tr>\n",
       "      <th>1147</th>\n",
       "      <td>2003</td>\n",
       "      <td>1281</td>\n",
       "      <td>1356</td>\n",
       "      <td>1.0</td>\n",
       "      <td>-5</td>\n",
       "      <td>0.175269</td>\n",
       "      <td>1.122581</td>\n",
       "      <td>3.436559</td>\n",
       "      <td>1.326882</td>\n",
       "      <td>5.134409</td>\n",
       "      <td>...</td>\n",
       "      <td>1.383871</td>\n",
       "      <td>-1.238710</td>\n",
       "      <td>-1.732258</td>\n",
       "      <td>-2.462366</td>\n",
       "      <td>-2.759140</td>\n",
       "      <td>-2.256989</td>\n",
       "      <td>1.112903</td>\n",
       "      <td>-0.029774</td>\n",
       "      <td>-0.035819</td>\n",
       "      <td>-0.049254</td>\n",
       "    </tr>\n",
       "    <tr>\n",
       "      <th>1156</th>\n",
       "      <td>2003</td>\n",
       "      <td>1231</td>\n",
       "      <td>1104</td>\n",
       "      <td>4.0</td>\n",
       "      <td>-3</td>\n",
       "      <td>1.705357</td>\n",
       "      <td>1.558036</td>\n",
       "      <td>1.696429</td>\n",
       "      <td>-2.241071</td>\n",
       "      <td>1.767857</td>\n",
       "      <td>...</td>\n",
       "      <td>1.174107</td>\n",
       "      <td>1.696429</td>\n",
       "      <td>1.267857</td>\n",
       "      <td>0.026786</td>\n",
       "      <td>1.245536</td>\n",
       "      <td>-2.169643</td>\n",
       "      <td>-1.785714</td>\n",
       "      <td>0.011055</td>\n",
       "      <td>0.018418</td>\n",
       "      <td>-0.000529</td>\n",
       "    </tr>\n",
       "    <tr>\n",
       "      <th>1159</th>\n",
       "      <td>2003</td>\n",
       "      <td>1268</td>\n",
       "      <td>1423</td>\n",
       "      <td>5.0</td>\n",
       "      <td>-5</td>\n",
       "      <td>4.226190</td>\n",
       "      <td>4.707143</td>\n",
       "      <td>3.616667</td>\n",
       "      <td>6.957143</td>\n",
       "      <td>-1.435714</td>\n",
       "      <td>...</td>\n",
       "      <td>-0.016667</td>\n",
       "      <td>3.371429</td>\n",
       "      <td>2.645238</td>\n",
       "      <td>0.566667</td>\n",
       "      <td>9.419048</td>\n",
       "      <td>1.692857</td>\n",
       "      <td>2.640476</td>\n",
       "      <td>0.001049</td>\n",
       "      <td>0.035317</td>\n",
       "      <td>0.013662</td>\n",
       "    </tr>\n",
       "    <tr>\n",
       "      <th>1170</th>\n",
       "      <td>2003</td>\n",
       "      <td>1163</td>\n",
       "      <td>1390</td>\n",
       "      <td>2.0</td>\n",
       "      <td>1</td>\n",
       "      <td>0.988172</td>\n",
       "      <td>4.378495</td>\n",
       "      <td>2.770968</td>\n",
       "      <td>4.167742</td>\n",
       "      <td>-3.687097</td>\n",
       "      <td>...</td>\n",
       "      <td>-0.868817</td>\n",
       "      <td>1.325806</td>\n",
       "      <td>0.867742</td>\n",
       "      <td>-0.116129</td>\n",
       "      <td>7.775269</td>\n",
       "      <td>0.417204</td>\n",
       "      <td>1.477419</td>\n",
       "      <td>0.029502</td>\n",
       "      <td>0.025274</td>\n",
       "      <td>-0.001630</td>\n",
       "    </tr>\n",
       "  </tbody>\n",
       "</table>\n",
       "<p>5 rows × 21 columns</p>\n",
       "</div>"
      ],
      "text/plain": [
       "      Season  Wteam  Lteam  t_number_win_diff  seed_diff  r_ast_diff  \\\n",
       "1140    2003   1143   1301                0.0         -1    1.333333   \n",
       "1147    2003   1281   1356                1.0         -5    0.175269   \n",
       "1156    2003   1231   1104                4.0         -3    1.705357   \n",
       "1159    2003   1268   1423                5.0         -5    4.226190   \n",
       "1170    2003   1163   1390                2.0          1    0.988172   \n",
       "\n",
       "      r_blk_diff  r_dr_diff  r_fga_diff  r_fga3_diff     ...      r_fgm3_diff  \\\n",
       "1140   -0.273563   2.345977    5.390805    -5.465517     ...        -1.552874   \n",
       "1147    1.122581   3.436559    1.326882     5.134409     ...         1.383871   \n",
       "1156    1.558036   1.696429   -2.241071     1.767857     ...         1.174107   \n",
       "1159    4.707143   3.616667    6.957143    -1.435714     ...        -0.016667   \n",
       "1170    4.378495   2.770968    4.167742    -3.687097     ...        -0.868817   \n",
       "\n",
       "      r_fta_diff  r_ftm_diff  r_pf_diff  r_score_diff  r_stl_diff  r_to_diff  \\\n",
       "1140   -0.949425   -2.387356  -1.563218      2.082759   -1.214943  -0.027586   \n",
       "1147   -1.238710   -1.732258  -2.462366     -2.759140   -2.256989   1.112903   \n",
       "1156    1.696429    1.267857   0.026786      1.245536   -2.169643  -1.785714   \n",
       "1159    3.371429    2.645238   0.566667      9.419048    1.692857   2.640476   \n",
       "1170    1.325806    0.867742  -0.116129      7.775269    0.417204   1.477419   \n",
       "\n",
       "      r_fgp_diff  r_fgp3_diff  r_ftp_diff  \n",
       "1140    0.010234     0.025371   -0.089516  \n",
       "1147   -0.029774    -0.035819   -0.049254  \n",
       "1156    0.011055     0.018418   -0.000529  \n",
       "1159    0.001049     0.035317    0.013662  \n",
       "1170    0.029502     0.025274   -0.001630  \n",
       "\n",
       "[5 rows x 21 columns]"
      ]
     },
     "execution_count": 22,
     "metadata": {},
     "output_type": "execute_result"
    }
   ],
   "source": [
    "t_compact.head()"
   ]
  },
  {
   "cell_type": "code",
   "execution_count": 27,
   "metadata": {
    "collapsed": true
   },
   "outputs": [],
   "source": [
    "# create train dataframe with only contain winning result\n",
    "train = t_compact.drop(['Season','Wteam','Lteam'], axis=1)\n",
    "train['result'] = 1"
   ]
  },
  {
   "cell_type": "code",
   "execution_count": 28,
   "metadata": {
    "collapsed": true
   },
   "outputs": [],
   "source": [
    "# create dataframe with only contain loss result\n",
    "train_loss = t_compact.drop(['Season','Wteam','Lteam'], axis=1)\n",
    "\n",
    "for i in train_loss.columns:\n",
    "    train_loss[i] = -train_loss[i]\n",
    "\n",
    "train_loss['result'] = 0"
   ]
  },
  {
   "cell_type": "code",
   "execution_count": 29,
   "metadata": {
    "collapsed": true
   },
   "outputs": [],
   "source": [
    "# concat winning part and loss part to create train dataset\n",
    "train = pd.concat([train, train_loss])  #  (4100, 3)"
   ]
  },
  {
   "cell_type": "code",
   "execution_count": 26,
   "metadata": {},
   "outputs": [
    {
     "data": {
      "text/html": [
       "<div>\n",
       "<style>\n",
       "    .dataframe thead tr:only-child th {\n",
       "        text-align: right;\n",
       "    }\n",
       "\n",
       "    .dataframe thead th {\n",
       "        text-align: left;\n",
       "    }\n",
       "\n",
       "    .dataframe tbody tr th {\n",
       "        vertical-align: top;\n",
       "    }\n",
       "</style>\n",
       "<table border=\"1\" class=\"dataframe\">\n",
       "  <thead>\n",
       "    <tr style=\"text-align: right;\">\n",
       "      <th></th>\n",
       "      <th>t_number_win_diff</th>\n",
       "      <th>seed_diff</th>\n",
       "      <th>r_ast_diff</th>\n",
       "      <th>r_blk_diff</th>\n",
       "      <th>r_dr_diff</th>\n",
       "      <th>r_fga_diff</th>\n",
       "      <th>r_fga3_diff</th>\n",
       "      <th>r_fgm_diff</th>\n",
       "      <th>r_fgm3_diff</th>\n",
       "      <th>r_fta_diff</th>\n",
       "      <th>r_ftm_diff</th>\n",
       "      <th>r_pf_diff</th>\n",
       "      <th>r_score_diff</th>\n",
       "      <th>r_stl_diff</th>\n",
       "      <th>r_to_diff</th>\n",
       "      <th>r_fgp_diff</th>\n",
       "      <th>r_fgp3_diff</th>\n",
       "      <th>r_ftp_diff</th>\n",
       "      <th>result</th>\n",
       "    </tr>\n",
       "  </thead>\n",
       "  <tbody>\n",
       "    <tr>\n",
       "      <th>1140</th>\n",
       "      <td>0.0</td>\n",
       "      <td>-1</td>\n",
       "      <td>1.333333</td>\n",
       "      <td>-0.273563</td>\n",
       "      <td>2.345977</td>\n",
       "      <td>5.390805</td>\n",
       "      <td>-5.465517</td>\n",
       "      <td>3.011494</td>\n",
       "      <td>-1.552874</td>\n",
       "      <td>-0.949425</td>\n",
       "      <td>-2.387356</td>\n",
       "      <td>-1.563218</td>\n",
       "      <td>2.082759</td>\n",
       "      <td>-1.214943</td>\n",
       "      <td>-0.027586</td>\n",
       "      <td>0.010234</td>\n",
       "      <td>0.025371</td>\n",
       "      <td>-0.089516</td>\n",
       "      <td>1</td>\n",
       "    </tr>\n",
       "    <tr>\n",
       "      <th>1147</th>\n",
       "      <td>1.0</td>\n",
       "      <td>-5</td>\n",
       "      <td>0.175269</td>\n",
       "      <td>1.122581</td>\n",
       "      <td>3.436559</td>\n",
       "      <td>1.326882</td>\n",
       "      <td>5.134409</td>\n",
       "      <td>-1.205376</td>\n",
       "      <td>1.383871</td>\n",
       "      <td>-1.238710</td>\n",
       "      <td>-1.732258</td>\n",
       "      <td>-2.462366</td>\n",
       "      <td>-2.759140</td>\n",
       "      <td>-2.256989</td>\n",
       "      <td>1.112903</td>\n",
       "      <td>-0.029774</td>\n",
       "      <td>-0.035819</td>\n",
       "      <td>-0.049254</td>\n",
       "      <td>1</td>\n",
       "    </tr>\n",
       "    <tr>\n",
       "      <th>1156</th>\n",
       "      <td>4.0</td>\n",
       "      <td>-3</td>\n",
       "      <td>1.705357</td>\n",
       "      <td>1.558036</td>\n",
       "      <td>1.696429</td>\n",
       "      <td>-2.241071</td>\n",
       "      <td>1.767857</td>\n",
       "      <td>-0.598214</td>\n",
       "      <td>1.174107</td>\n",
       "      <td>1.696429</td>\n",
       "      <td>1.267857</td>\n",
       "      <td>0.026786</td>\n",
       "      <td>1.245536</td>\n",
       "      <td>-2.169643</td>\n",
       "      <td>-1.785714</td>\n",
       "      <td>0.011055</td>\n",
       "      <td>0.018418</td>\n",
       "      <td>-0.000529</td>\n",
       "      <td>1</td>\n",
       "    </tr>\n",
       "    <tr>\n",
       "      <th>1159</th>\n",
       "      <td>5.0</td>\n",
       "      <td>-5</td>\n",
       "      <td>4.226190</td>\n",
       "      <td>4.707143</td>\n",
       "      <td>3.616667</td>\n",
       "      <td>6.957143</td>\n",
       "      <td>-1.435714</td>\n",
       "      <td>3.395238</td>\n",
       "      <td>-0.016667</td>\n",
       "      <td>3.371429</td>\n",
       "      <td>2.645238</td>\n",
       "      <td>0.566667</td>\n",
       "      <td>9.419048</td>\n",
       "      <td>1.692857</td>\n",
       "      <td>2.640476</td>\n",
       "      <td>0.001049</td>\n",
       "      <td>0.035317</td>\n",
       "      <td>0.013662</td>\n",
       "      <td>1</td>\n",
       "    </tr>\n",
       "    <tr>\n",
       "      <th>1170</th>\n",
       "      <td>2.0</td>\n",
       "      <td>1</td>\n",
       "      <td>0.988172</td>\n",
       "      <td>4.378495</td>\n",
       "      <td>2.770968</td>\n",
       "      <td>4.167742</td>\n",
       "      <td>-3.687097</td>\n",
       "      <td>3.888172</td>\n",
       "      <td>-0.868817</td>\n",
       "      <td>1.325806</td>\n",
       "      <td>0.867742</td>\n",
       "      <td>-0.116129</td>\n",
       "      <td>7.775269</td>\n",
       "      <td>0.417204</td>\n",
       "      <td>1.477419</td>\n",
       "      <td>0.029502</td>\n",
       "      <td>0.025274</td>\n",
       "      <td>-0.001630</td>\n",
       "      <td>1</td>\n",
       "    </tr>\n",
       "  </tbody>\n",
       "</table>\n",
       "</div>"
      ],
      "text/plain": [
       "      t_number_win_diff  seed_diff  r_ast_diff  r_blk_diff  r_dr_diff  \\\n",
       "1140                0.0         -1    1.333333   -0.273563   2.345977   \n",
       "1147                1.0         -5    0.175269    1.122581   3.436559   \n",
       "1156                4.0         -3    1.705357    1.558036   1.696429   \n",
       "1159                5.0         -5    4.226190    4.707143   3.616667   \n",
       "1170                2.0          1    0.988172    4.378495   2.770968   \n",
       "\n",
       "      r_fga_diff  r_fga3_diff  r_fgm_diff  r_fgm3_diff  r_fta_diff  \\\n",
       "1140    5.390805    -5.465517    3.011494    -1.552874   -0.949425   \n",
       "1147    1.326882     5.134409   -1.205376     1.383871   -1.238710   \n",
       "1156   -2.241071     1.767857   -0.598214     1.174107    1.696429   \n",
       "1159    6.957143    -1.435714    3.395238    -0.016667    3.371429   \n",
       "1170    4.167742    -3.687097    3.888172    -0.868817    1.325806   \n",
       "\n",
       "      r_ftm_diff  r_pf_diff  r_score_diff  r_stl_diff  r_to_diff  r_fgp_diff  \\\n",
       "1140   -2.387356  -1.563218      2.082759   -1.214943  -0.027586    0.010234   \n",
       "1147   -1.732258  -2.462366     -2.759140   -2.256989   1.112903   -0.029774   \n",
       "1156    1.267857   0.026786      1.245536   -2.169643  -1.785714    0.011055   \n",
       "1159    2.645238   0.566667      9.419048    1.692857   2.640476    0.001049   \n",
       "1170    0.867742  -0.116129      7.775269    0.417204   1.477419    0.029502   \n",
       "\n",
       "      r_fgp3_diff  r_ftp_diff  result  \n",
       "1140     0.025371   -0.089516       1  \n",
       "1147    -0.035819   -0.049254       1  \n",
       "1156     0.018418   -0.000529       1  \n",
       "1159     0.035317    0.013662       1  \n",
       "1170     0.025274   -0.001630       1  "
      ]
     },
     "execution_count": 26,
     "metadata": {},
     "output_type": "execute_result"
    }
   ],
   "source": [
    "train.head()"
   ]
  },
  {
   "cell_type": "code",
   "execution_count": 30,
   "metadata": {
    "collapsed": true
   },
   "outputs": [],
   "source": [
    "X = train.drop(['result'], axis=1).values\n",
    "y = train['result'].values"
   ]
  },
  {
   "cell_type": "code",
   "execution_count": 31,
   "metadata": {
    "collapsed": true
   },
   "outputs": [],
   "source": [
    "Xs = StandardScaler().fit_transform(X)"
   ]
  },
  {
   "cell_type": "code",
   "execution_count": 32,
   "metadata": {},
   "outputs": [
    {
     "data": {
      "text/plain": [
       "0.72150537634408596"
      ]
     },
     "execution_count": 32,
     "metadata": {},
     "output_type": "execute_result"
    }
   ],
   "source": [
    "log = LogisticRegression()\n",
    "cross_val_score(log, Xs, y, cv=5).mean()"
   ]
  },
  {
   "cell_type": "code",
   "execution_count": 33,
   "metadata": {},
   "outputs": [
    {
     "data": {
      "text/plain": [
       "0.72172043010752696"
      ]
     },
     "execution_count": 33,
     "metadata": {},
     "output_type": "execute_result"
    }
   ],
   "source": [
    "clf = svm.SVC()\n",
    "clf.fit(Xs, y)\n",
    "cross_val_score(clf, Xs, y, cv=5).mean()"
   ]
  },
  {
   "cell_type": "code",
   "execution_count": 34,
   "metadata": {},
   "outputs": [
    {
     "data": {
      "text/plain": [
       "0.66236559139784945"
      ]
     },
     "execution_count": 34,
     "metadata": {},
     "output_type": "execute_result"
    }
   ],
   "source": [
    "knn = KNeighborsClassifier()\n",
    "knn.fit(Xs, y)\n",
    "cross_val_score(knn, Xs, y, cv=5).mean()"
   ]
  },
  {
   "cell_type": "code",
   "execution_count": 35,
   "metadata": {},
   "outputs": [
    {
     "data": {
      "text/plain": [
       "0.6253763440860215"
      ]
     },
     "execution_count": 35,
     "metadata": {},
     "output_type": "execute_result"
    }
   ],
   "source": [
    "dtc = DecisionTreeClassifier(max_depth=100, random_state=0)\n",
    "dtc.fit(Xs, y)\n",
    "cross_val_score(dtc, Xs, y, cv=5).mean()"
   ]
  },
  {
   "cell_type": "code",
   "execution_count": 36,
   "metadata": {},
   "outputs": [
    {
     "data": {
      "text/plain": [
       "0.67860215053763451"
      ]
     },
     "execution_count": 36,
     "metadata": {},
     "output_type": "execute_result"
    }
   ],
   "source": [
    "bagger = BaggingClassifier(dtc)\n",
    "cross_val_score(bagger, Xs, y, cv=5).mean()"
   ]
  },
  {
   "cell_type": "code",
   "execution_count": 37,
   "metadata": {},
   "outputs": [
    {
     "data": {
      "text/plain": [
       "0.71139784946236562"
      ]
     },
     "execution_count": 37,
     "metadata": {},
     "output_type": "execute_result"
    }
   ],
   "source": [
    "rfc = RandomForestClassifier(max_depth=200, n_estimators=200)\n",
    "rfc.fit(Xs, y)\n",
    "cross_val_score(rfc, Xs, y, cv=5).mean()"
   ]
  },
  {
   "cell_type": "code",
   "execution_count": 38,
   "metadata": {},
   "outputs": [
    {
     "data": {
      "text/plain": [
       "0.65505376344086019"
      ]
     },
     "execution_count": 38,
     "metadata": {},
     "output_type": "execute_result"
    }
   ],
   "source": [
    "gbc = GradientBoostingClassifier()\n",
    "gbc.fit(Xs, y)\n",
    "cross_val_score(gbc, Xs, y, cv=5).mean()"
   ]
  },
  {
   "cell_type": "markdown",
   "metadata": {},
   "source": [
    "# Make a prediction for each game of 2017 NCAA Men's basketball tournament"
   ]
  },
  {
   "cell_type": "code",
   "execution_count": 13,
   "metadata": {
    "collapsed": true
   },
   "outputs": [],
   "source": [
    "# load submission dataset\n",
    "submission = pd.read_csv('SampleSubmission.csv').drop(['Pred'],axis=1)"
   ]
  },
  {
   "cell_type": "code",
   "execution_count": 14,
   "metadata": {
    "collapsed": true
   },
   "outputs": [],
   "source": [
    "# create column which contain left_team Id\n",
    "submission['left_team'] = [int(i.split('_')[1]) for i in submission['Id']]\n",
    "\n",
    "# create column which contain left_team Id\n",
    "submission['right_team'] = [int(i.split('_')[2]) for i in submission['Id']]"
   ]
  },
  {
   "cell_type": "code",
   "execution_count": 39,
   "metadata": {
    "collapsed": true
   },
   "outputs": [],
   "source": [
    "# get t_win_games for 2017\n",
    "tt_win_games = t_win_games[t_win_games['Season']==2017].drop(['Season'],axis=1)\n",
    "\n",
    "# change column name\n",
    "tt_win_games_left = tt_win_games.rename(columns={'Wteam':'left_team'})\n",
    "# merge r_detail for win team\n",
    "submission = pd.merge(left=submission, right=tt_win_games_left, how='left', on=['left_team'])\n",
    "\n",
    "# change column name\n",
    "tt_win_games_right = tt_win_games.rename(columns={'Wteam':'right_team'})\n",
    "# merge r_detail for loss team\n",
    "submission = pd.merge(left=submission, right=tt_win_games_right, how='left', on=['right_team'])"
   ]
  },
  {
   "cell_type": "code",
   "execution_count": 40,
   "metadata": {
    "collapsed": true
   },
   "outputs": [],
   "source": [
    "# fill the missong value with 0, I guess those team didn't play last year's t\n",
    "submission = submission.fillna(0)"
   ]
  },
  {
   "cell_type": "code",
   "execution_count": 41,
   "metadata": {
    "collapsed": true
   },
   "outputs": [],
   "source": [
    "# create t_number_win_diff between left team and right team\n",
    "submission['t_number_win_diff'] = submission['number_win_x'] - submission['number_win_y']\n",
    "submission = submission.drop(['number_win_x','number_win_y'],axis=1)"
   ]
  },
  {
   "cell_type": "code",
   "execution_count": 42,
   "metadata": {
    "collapsed": true
   },
   "outputs": [],
   "source": [
    "# create dataframe contain 2017 r stat for each team\n",
    "r_detail_mean_2017 = rwl_detail.groupby(['Season' ,'team']).mean().reset_index()\n",
    "\n",
    "r_detail_mean_2017 = r_detail_mean_2017[r_detail_mean_2017['Season']==2017]\n",
    "r_detail_mean_2017 = r_detail_mean_2017.drop(['Season'],axis=1)"
   ]
  },
  {
   "cell_type": "code",
   "execution_count": 43,
   "metadata": {
    "collapsed": true
   },
   "outputs": [],
   "source": [
    "# change column name\n",
    "tr_detail_mean_2017_left = r_detail_mean_2017.rename(columns={'team':'left_team'})\n",
    "# merge r_detail for win team\n",
    "submission = pd.merge(left=submission, right=tr_detail_mean_2017_left, how='left', on=['left_team'])\n",
    "\n",
    "# change column name\n",
    "tr_detail_mean_2017_right = r_detail_mean_2017.rename(columns={'team':'right_team'})\n",
    "# merge r_detail for loss team\n",
    "submission = pd.merge(left=submission, right=tr_detail_mean_2017_right, how='left', on=['right_team'])"
   ]
  },
  {
   "cell_type": "code",
   "execution_count": 44,
   "metadata": {
    "collapsed": true
   },
   "outputs": [],
   "source": [
    "# create new columns for different between win team and loss team\n",
    "submission['r_ast_diff'] = submission['ast_x'] - submission['ast_y']\n",
    "submission['r_blk_diff'] = submission['blk_x'] - submission['blk_y']\n",
    "submission['r_dr_diff'] = submission['dr_x'] - submission['dr_y']\n",
    "submission['r_fga_diff'] = submission['fga_x'] - submission['fga_y']\n",
    "submission['r_fga3_diff'] = submission['fga3_x'] - submission['fga3_y']\n",
    "submission['r_fgm_diff'] = submission['fgm_x'] - submission['fgm_y']\n",
    "submission['r_fgm3_diff'] = submission['fgm3_x'] - submission['fgm3_y']\n",
    "submission['r_fta_diff'] = submission['fta_x'] - submission['fta_y']\n",
    "submission['r_ftm_diff'] = submission['ftm_x'] - submission['ftm_y']\n",
    "submission['r_pf_diff'] = submission['pf_x'] - submission['pf_y']\n",
    "submission['r_score_diff'] = submission['score_x'] - submission['score_y']\n",
    "submission['r_stl_diff'] = submission['stl_x'] - submission['stl_y']\n",
    "submission['r_to_diff'] = submission['to_x'] - submission['to_y']\n",
    "submission['r_fgp_diff'] = submission['fgp_x'] - submission['fgp_y']\n",
    "submission['r_fgp3_diff'] = submission['fgp3_x'] - submission['fgp3_y']\n",
    "submission['r_ftp_diff'] = submission['ftp_x'] - submission['ftp_y']\n",
    "\n",
    "# drop columns\n",
    "submission = submission.drop(['ast_x', 'blk_x', 'dr_x',\n",
    "       'fga_x', 'fga3_x', 'fgm_x', 'fgm3_x', 'fta_x', 'ftm_x', 'pf_x',\n",
    "       'score_x', 'stl_x', 'to_x', 'fgp_x', 'fgp3_x', 'ftp_x', 'ast_y',\n",
    "       'blk_y', 'dr_y', 'fga_y', 'fga3_y', 'fgm_y', 'fgm3_y', 'fta_y', 'ftm_y',\n",
    "       'pf_y', 'score_y', 'stl_y', 'to_y', 'fgp_y', 'fgp3_y', 'ftp_y'], axis=1)"
   ]
  },
  {
   "cell_type": "code",
   "execution_count": 45,
   "metadata": {
    "collapsed": true
   },
   "outputs": [],
   "source": [
    "# create dataframe only have season 2017\n",
    "test_seed = seed[seed['Season']==2017]\n",
    "\n",
    "# create dataframe for win team and seed\n",
    "test_leftseeds = test_seed.rename(columns={'Team':'left_team', 'numeric_seed':'left_seed'})\n",
    "test_leftseeds = test_leftseeds[['left_team','left_seed']]\n",
    "\n",
    "# create dataframe for loss team and seed\n",
    "test_rightseeds = test_seed.rename(columns={'Team':'right_team', 'numeric_seed':'right_seed'})\n",
    "test_rightseeds = test_rightseeds[['right_team','right_seed']]"
   ]
  },
  {
   "cell_type": "code",
   "execution_count": 46,
   "metadata": {
    "collapsed": true
   },
   "outputs": [],
   "source": [
    "# merge seed for left team \n",
    "submission = pd.merge(left=submission, right=test_leftseeds, how='left', on=['left_team'])\n",
    "# merge seed for loss team\n",
    "submission = pd.merge(left=submission, right=test_rightseeds, how='left', on=['right_team'])\n",
    "\n",
    "# create new column for different seed between win team and loss team\n",
    "submission['seed_diff'] = submission['left_seed'] - submission['right_seed']\n",
    "\n",
    "submission = submission.drop(['left_seed','right_seed'],axis=1)"
   ]
  },
  {
   "cell_type": "code",
   "execution_count": 46,
   "metadata": {},
   "outputs": [
    {
     "data": {
      "text/html": [
       "<div>\n",
       "<style>\n",
       "    .dataframe thead tr:only-child th {\n",
       "        text-align: right;\n",
       "    }\n",
       "\n",
       "    .dataframe thead th {\n",
       "        text-align: left;\n",
       "    }\n",
       "\n",
       "    .dataframe tbody tr th {\n",
       "        vertical-align: top;\n",
       "    }\n",
       "</style>\n",
       "<table border=\"1\" class=\"dataframe\">\n",
       "  <thead>\n",
       "    <tr style=\"text-align: right;\">\n",
       "      <th></th>\n",
       "      <th>Id</th>\n",
       "      <th>left_team</th>\n",
       "      <th>right_team</th>\n",
       "      <th>t_number_win_diff</th>\n",
       "      <th>r_ast_diff</th>\n",
       "      <th>r_blk_diff</th>\n",
       "      <th>r_dr_diff</th>\n",
       "      <th>r_fga_diff</th>\n",
       "      <th>r_fga3_diff</th>\n",
       "      <th>r_fgm_diff</th>\n",
       "      <th>...</th>\n",
       "      <th>r_fta_diff</th>\n",
       "      <th>r_ftm_diff</th>\n",
       "      <th>r_pf_diff</th>\n",
       "      <th>r_score_diff</th>\n",
       "      <th>r_stl_diff</th>\n",
       "      <th>r_to_diff</th>\n",
       "      <th>r_fgp_diff</th>\n",
       "      <th>r_fgp3_diff</th>\n",
       "      <th>r_ftp_diff</th>\n",
       "      <th>seed_diff</th>\n",
       "    </tr>\n",
       "  </thead>\n",
       "  <tbody>\n",
       "    <tr>\n",
       "      <th>0</th>\n",
       "      <td>2017_1112_1116</td>\n",
       "      <td>1112</td>\n",
       "      <td>1116</td>\n",
       "      <td>0.0</td>\n",
       "      <td>-0.294118</td>\n",
       "      <td>-1.500000</td>\n",
       "      <td>1.529412</td>\n",
       "      <td>-5.088235</td>\n",
       "      <td>-1.000000</td>\n",
       "      <td>-1.529412</td>\n",
       "      <td>...</td>\n",
       "      <td>-0.764706</td>\n",
       "      <td>-0.676471</td>\n",
       "      <td>-3.617647</td>\n",
       "      <td>-3.529412</td>\n",
       "      <td>-2.029412</td>\n",
       "      <td>-0.294118</td>\n",
       "      <td>0.015773</td>\n",
       "      <td>0.031094</td>\n",
       "      <td>-0.009186</td>\n",
       "      <td>-6</td>\n",
       "    </tr>\n",
       "    <tr>\n",
       "      <th>1</th>\n",
       "      <td>2017_1112_1124</td>\n",
       "      <td>1112</td>\n",
       "      <td>1124</td>\n",
       "      <td>0.0</td>\n",
       "      <td>-1.689753</td>\n",
       "      <td>-1.635674</td>\n",
       "      <td>1.535104</td>\n",
       "      <td>-0.137571</td>\n",
       "      <td>-1.768501</td>\n",
       "      <td>0.431689</td>\n",
       "      <td>...</td>\n",
       "      <td>3.685009</td>\n",
       "      <td>3.666034</td>\n",
       "      <td>-0.706831</td>\n",
       "      <td>4.651803</td>\n",
       "      <td>0.370968</td>\n",
       "      <td>-1.978178</td>\n",
       "      <td>0.009828</td>\n",
       "      <td>0.037155</td>\n",
       "      <td>0.069138</td>\n",
       "      <td>-1</td>\n",
       "    </tr>\n",
       "  </tbody>\n",
       "</table>\n",
       "<p>2 rows × 21 columns</p>\n",
       "</div>"
      ],
      "text/plain": [
       "               Id  left_team  right_team  t_number_win_diff  r_ast_diff  \\\n",
       "0  2017_1112_1116       1112        1116                0.0   -0.294118   \n",
       "1  2017_1112_1124       1112        1124                0.0   -1.689753   \n",
       "\n",
       "   r_blk_diff  r_dr_diff  r_fga_diff  r_fga3_diff  r_fgm_diff    ...      \\\n",
       "0   -1.500000   1.529412   -5.088235    -1.000000   -1.529412    ...       \n",
       "1   -1.635674   1.535104   -0.137571    -1.768501    0.431689    ...       \n",
       "\n",
       "   r_fta_diff  r_ftm_diff  r_pf_diff  r_score_diff  r_stl_diff  r_to_diff  \\\n",
       "0   -0.764706   -0.676471  -3.617647     -3.529412   -2.029412  -0.294118   \n",
       "1    3.685009    3.666034  -0.706831      4.651803    0.370968  -1.978178   \n",
       "\n",
       "   r_fgp_diff  r_fgp3_diff  r_ftp_diff  seed_diff  \n",
       "0    0.015773     0.031094   -0.009186         -6  \n",
       "1    0.009828     0.037155    0.069138         -1  \n",
       "\n",
       "[2 rows x 21 columns]"
      ]
     },
     "execution_count": 46,
     "metadata": {},
     "output_type": "execute_result"
    }
   ],
   "source": [
    "submission.head(2)"
   ]
  },
  {
   "cell_type": "code",
   "execution_count": 47,
   "metadata": {
    "collapsed": true
   },
   "outputs": [],
   "source": [
    "testX = submission.drop(['Id','left_team','right_team'],axis=1).values"
   ]
  },
  {
   "cell_type": "code",
   "execution_count": 48,
   "metadata": {
    "collapsed": true
   },
   "outputs": [],
   "source": [
    "testXs = StandardScaler().fit_transform(testX)"
   ]
  },
  {
   "cell_type": "code",
   "execution_count": 53,
   "metadata": {},
   "outputs": [
    {
     "data": {
      "text/plain": [
       "array([1, 1, 0, ..., 1, 1, 1])"
      ]
     },
     "execution_count": 53,
     "metadata": {},
     "output_type": "execute_result"
    }
   ],
   "source": [
    "rfc.predict(testXs)"
   ]
  },
  {
   "cell_type": "code",
   "execution_count": 54,
   "metadata": {},
   "outputs": [
    {
     "data": {
      "text/plain": [
       "array([ 0.645,  0.56 ,  0.47 , ...,  0.705,  0.835,  0.855])"
      ]
     },
     "execution_count": 54,
     "metadata": {},
     "output_type": "execute_result"
    }
   ],
   "source": [
    "rfc.predict_proba(testXs)[:,1]"
   ]
  },
  {
   "cell_type": "code",
   "execution_count": 55,
   "metadata": {
    "collapsed": true
   },
   "outputs": [],
   "source": [
    "final_submission = submission[['Id']].copy()"
   ]
  },
  {
   "cell_type": "code",
   "execution_count": 56,
   "metadata": {
    "collapsed": true
   },
   "outputs": [],
   "source": [
    "final_submission['pred'] = rfc.predict_proba(testX)[:,1]"
   ]
  },
  {
   "cell_type": "code",
   "execution_count": 57,
   "metadata": {},
   "outputs": [
    {
     "data": {
      "text/html": [
       "<div>\n",
       "<style>\n",
       "    .dataframe thead tr:only-child th {\n",
       "        text-align: right;\n",
       "    }\n",
       "\n",
       "    .dataframe thead th {\n",
       "        text-align: left;\n",
       "    }\n",
       "\n",
       "    .dataframe tbody tr th {\n",
       "        vertical-align: top;\n",
       "    }\n",
       "</style>\n",
       "<table border=\"1\" class=\"dataframe\">\n",
       "  <thead>\n",
       "    <tr style=\"text-align: right;\">\n",
       "      <th></th>\n",
       "      <th>Id</th>\n",
       "      <th>pred</th>\n",
       "    </tr>\n",
       "  </thead>\n",
       "  <tbody>\n",
       "    <tr>\n",
       "      <th>0</th>\n",
       "      <td>2017_1112_1116</td>\n",
       "      <td>0.490</td>\n",
       "    </tr>\n",
       "    <tr>\n",
       "      <th>1</th>\n",
       "      <td>2017_1112_1124</td>\n",
       "      <td>0.550</td>\n",
       "    </tr>\n",
       "    <tr>\n",
       "      <th>2</th>\n",
       "      <td>2017_1112_1137</td>\n",
       "      <td>0.500</td>\n",
       "    </tr>\n",
       "    <tr>\n",
       "      <th>3</th>\n",
       "      <td>2017_1112_1139</td>\n",
       "      <td>0.475</td>\n",
       "    </tr>\n",
       "    <tr>\n",
       "      <th>4</th>\n",
       "      <td>2017_1112_1153</td>\n",
       "      <td>0.590</td>\n",
       "    </tr>\n",
       "  </tbody>\n",
       "</table>\n",
       "</div>"
      ],
      "text/plain": [
       "               Id   pred\n",
       "0  2017_1112_1116  0.490\n",
       "1  2017_1112_1124  0.550\n",
       "2  2017_1112_1137  0.500\n",
       "3  2017_1112_1139  0.475\n",
       "4  2017_1112_1153  0.590"
      ]
     },
     "execution_count": 57,
     "metadata": {},
     "output_type": "execute_result"
    }
   ],
   "source": [
    "final_submission.head()"
   ]
  }
 ],
 "metadata": {
  "kernelspec": {
   "display_name": "Python 3",
   "language": "python",
   "name": "python3"
  },
  "language_info": {
   "codemirror_mode": {
    "name": "ipython",
    "version": 3
   },
   "file_extension": ".py",
   "mimetype": "text/x-python",
   "name": "python",
   "nbconvert_exporter": "python",
   "pygments_lexer": "ipython3",
   "version": "3.6.1"
  }
 },
 "nbformat": 4,
 "nbformat_minor": 2
}
